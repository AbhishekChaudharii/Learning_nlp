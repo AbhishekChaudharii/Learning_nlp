{
 "cells": [
  {
   "cell_type": "code",
   "execution_count": 2,
   "metadata": {},
   "outputs": [],
   "source": [
    "from nltk import word_tokenize,sent_tokenize"
   ]
  },
  {
   "cell_type": "code",
   "execution_count": 12,
   "metadata": {},
   "outputs": [],
   "source": [
    "mytext = \"Thankfully, we don’t have to worry about how to solve these issues, as most NLP libraries come with some form of sentence and word splitting implemented. A commonly used library is Natural Language Tool Kit (NLTK) [30]. The code example below shows how to use a sentence and word splitter from NLTK and uses the first paragraph of this chapter as input:\""
   ]
  },
  {
   "cell_type": "code",
   "execution_count": 20,
   "metadata": {},
   "outputs": [],
   "source": [
    "sentences = sent_tokenize(mytext)"
   ]
  },
  {
   "cell_type": "code",
   "execution_count": 22,
   "metadata": {},
   "outputs": [
    {
     "name": "stdout",
     "output_type": "stream",
     "text": [
      "Thankfully, we don’t have to worry about how to solve these issues, as most NLP libraries come with some form of sentence and word splitting implemented. \n",
      "\n",
      "['Thankfully', ',', 'we', 'don', '’', 't', 'have', 'to', 'worry', 'about', 'how', 'to', 'solve', 'these', 'issues', ',', 'as', 'most', 'NLP', 'libraries', 'come', 'with', 'some', 'form', 'of', 'sentence', 'and', 'word', 'splitting', 'implemented', '.'] \n",
      " \n",
      " \n",
      "\n",
      "A commonly used library is Natural Language Tool Kit (NLTK) [30]. \n",
      "\n",
      "['A', 'commonly', 'used', 'library', 'is', 'Natural', 'Language', 'Tool', 'Kit', '(', 'NLTK', ')', '[', '30', ']', '.'] \n",
      " \n",
      " \n",
      "\n",
      "The code example below shows how to use a sentence and word splitter from NLTK and uses the first paragraph of this chapter as input: \n",
      "\n",
      "['The', 'code', 'example', 'below', 'shows', 'how', 'to', 'use', 'a', 'sentence', 'and', 'word', 'splitter', 'from', 'NLTK', 'and', 'uses', 'the', 'first', 'paragraph', 'of', 'this', 'chapter', 'as', 'input', ':'] \n",
      " \n",
      " \n",
      "\n"
     ]
    }
   ],
   "source": [
    "for sent in sentences:\n",
    "    print(sent,\"\\n\")\n",
    "    print(word_tokenize(sent),\"\\n \\n \\n\")"
   ]
  },
  {
   "cell_type": "code",
   "execution_count": 4,
   "metadata": {},
   "outputs": [
    {
     "name": "stdout",
     "output_type": "stream",
     "text": [
      "Mr. Jack O’Neil works at Melitas Marg, located at 245 Yonge Avenue, Austin, 70272. \n",
      "\n",
      "['Mr.', 'Jack', 'O', '’', 'Neil', 'works', 'at', 'Melitas', 'Marg', ',', 'located', 'at', '245', 'Yonge', 'Avenue', ',', 'Austin', ',', '70272', '.'] \n",
      " \n",
      " \n",
      "\n"
     ]
    }
   ],
   "source": [
    "mytext2 = \"Mr. Jack O’Neil works at Melitas Marg, located at 245 Yonge Avenue, Austin, 70272.\"\n",
    "sentences = sent_tokenize(mytext2)\n",
    "for sent in sentences:\n",
    "    print(sent,\"\\n\")\n",
    "    print(word_tokenize(sent),\"\\n \\n \\n\")"
   ]
  },
  {
   "cell_type": "code",
   "execution_count": 19,
   "metadata": {},
   "outputs": [
    {
     "name": "stderr",
     "output_type": "stream",
     "text": [
      "[nltk_data] Downloading package stopwords to /home/abhi/nltk_data...\n",
      "[nltk_data]   Package stopwords is already up-to-date!\n",
      "[nltk_data] Downloading package punkt to /home/abhi/nltk_data...\n",
      "[nltk_data]   Package punkt is already up-to-date!\n"
     ]
    },
    {
     "data": {
      "text/plain": [
       "True"
      ]
     },
     "execution_count": 19,
     "metadata": {},
     "output_type": "execute_result"
    }
   ],
   "source": [
    "import nltk\n",
    "from nltk.corpus import stopwords\n",
    "nltk.download('stopwords')\n",
    "nltk.download('punkt')\n"
   ]
  },
  {
   "cell_type": "code",
   "execution_count": 20,
   "metadata": {},
   "outputs": [
    {
     "name": "stdout",
     "output_type": "stream",
     "text": [
      "<WordListCorpusReader in '.../corpora/stopwords' (not loaded yet)>\n"
     ]
    }
   ],
   "source": [
    "print(stopwords)"
   ]
  },
  {
   "cell_type": "code",
   "execution_count": 21,
   "metadata": {},
   "outputs": [],
   "source": [
    "stop_words_nltk = set(stopwords.words('english'))  # loading stopwords corpora"
   ]
  },
  {
   "cell_type": "code",
   "execution_count": 22,
   "metadata": {},
   "outputs": [
    {
     "name": "stdout",
     "output_type": "stream",
     "text": [
      "<WordListCorpusReader in '/home/abhi/nltk_data/corpora/stopwords'>\n"
     ]
    }
   ],
   "source": [
    "print(stopwords)"
   ]
  },
  {
   "cell_type": "code",
   "execution_count": 29,
   "metadata": {},
   "outputs": [
    {
     "name": "stdout",
     "output_type": "stream",
     "text": [
      "{'has', \"she's\", 'they', 'because', 'same', 'won', 'wouldn', 'for', 'hers', 'theirs', 'have', 'having', 's', 'over', 'him', 'when', 'more', 'these', 'each', 'were', 'his', 'very', 'this', 'down', 'about', 'in', 'which', \"haven't\", 'it', 'where', \"you'd\", 'wasn', 'shan', 'is', 'was', \"won't\", 'shouldn', 'ourselves', 'what', 'such', 'hadn', \"hadn't\", 'who', 'herself', 'once', 'again', 'until', 't', 'no', 'yourself', 'ours', 'should', 'isn', 'doesn', 'below', 'are', 'myself', 've', \"weren't\", 'while', 'do', 'further', 'how', 'under', 'doing', 'weren', 'here', 'my', 'as', 'from', 'couldn', 'into', \"you've\", \"doesn't\", 'her', 'of', 'them', 'am', 'on', 'your', 'most', 'other', 'd', 'ma', 'o', 'off', 'nor', 'm', 'there', 'both', 'before', 'needn', 'against', 'mightn', 'be', 'a', 'we', 'out', \"mustn't\", \"wouldn't\", \"shan't\", 'after', 'themselves', 'up', 'by', 'an', \"you're\", 'whom', 'through', 'don', 'mustn', \"don't\", \"mightn't\", 'at', 'aren', 'few', 'all', 'if', 'why', \"aren't\", \"wasn't\", 'the', 'you', 'our', 'with', 'me', 're', 'ain', 'only', 'been', 'now', 'some', 'that', 'will', \"hasn't\", 'she', \"you'll\", 'yourselves', 'hasn', 'but', 'didn', 'haven', 'll', 'himself', \"didn't\", 'just', 'their', 'to', 'then', \"it's\", 'too', 'can', 'yours', 'y', 'any', 'during', 'those', 'he', 'and', 'or', 'own', 'above', \"that'll\", 'did', 'so', 'does', 'than', \"isn't\", \"should've\", \"shouldn't\", 'had', 'between', 'not', 'its', \"couldn't\", 'itself', \"needn't\", 'being', 'i'}\n"
     ]
    }
   ],
   "source": [
    "print(stop_words_nltk)  # Printing all stopwords in english language"
   ]
  },
  {
   "cell_type": "code",
   "execution_count": null,
   "metadata": {},
   "outputs": [],
   "source": []
  },
  {
   "cell_type": "code",
   "execution_count": 30,
   "metadata": {},
   "outputs": [],
   "source": [
    "from spacy.lang.en.stop_words import STOP_WORDS\n",
    "import spacy\n",
    "spacy_model = spacy.load('en_core_web_sm')"
   ]
  },
  {
   "cell_type": "code",
   "execution_count": 32,
   "metadata": {},
   "outputs": [
    {
     "name": "stdout",
     "output_type": "stream",
     "text": [
      "{'has', 'therefore', 'each', 'thereby', 'often', 'seem', 'where', 'herein', 'herself', 'would', \"'ll\", 'ours', 'get', 'really', 'one', 'beside', 'below', 'are', 'well', 'either', 'due', 'may', 'how', 'eight', 'into', 'whether', 'various', 'of', 'on', 'am', 'many', 'most', 'off', 'others', 'anyhow', 'be', 'we', 'last', 'themselves', 'whom', '’s', \"n't\", 'beforehand', 'two', 'next', '‘re', 'seems', 'our', 'sometime', 'hundred', 'thereupon', 'she', 'just', 'their', 'nobody', 'too', 'serious', 'whereas', 'can', 'less', 'although', 'moreover', 'fifty', 'rather', 'else', 'indeed', 'thru', 'another', 'did', 'became', 'everything', 'not', 'its', '‘ve', 'nowhere', 'none', 'among', 'part', 'for', 'over', 'something', 'toward', 'us', 'were', 'very', 'quite', 'whereby', 'down', 'in', 'full', '‘s', 'was', \"'d\", 'always', 'whereafter', 'onto', 'keep', 'who', 'least', 'should', 'ever', 'myself', 'unless', 'become', 'within', 'except', 'while', 'seemed', 'as', 'from', 'regarding', 'them', 'nor', 'both', 'before', 'several', 'against', 'a', 'everyone', 'out', 'across', 'along', 'eleven', 'wherever', 'whereupon', 'however', 'by', 'also', 'even', 'per', 'an', 'therein', 'somehow', 'seeming', 'few', 'all', 'amongst', 'neither', 'the', 're', 'with', 'me', 'been', 'now', 'but', 'then', 'six', 'any', 'and', 'he', 'first', 'yet', 'thence', 'take', 'own', \"'m\", 'so', 'does', 'meanwhile', 'than', 'must', 'somewhere', 'itself', 'becomes', 'have', 'him', \"'re\", 'move', 'anyone', 'front', 'empty', 'used', 'cannot', 'much', 'afterwards', 'what', 'once', 'until', 'no', 'almost', 'put', 'perhaps', 'whole', 'further', 'under', 'thereafter', 'doing', 'back', 'here', 'other', 'your', 'there', 'mostly', 'hereby', 'since', '’d', 'after', 'sixty', 'behind', 'already', 'wherein', 'everywhere', 'via', 'at', 'go', 'five', 'n’t', 'around', 'you', 'some', 'done', 'that', 'will', 'whoever', 'twelve', 'yourselves', 'using', 'himself', 'hereafter', 'three', 'made', 'noone', 'during', 'or', 'never', 'amount', 'anything', 'make', 'third', 'between', 'had', 'alone', 'nine', 'formerly', 'i', 'they', 'because', 'same', 'hers', 'towards', 'throughout', 'when', 'whose', 'elsewhere', 'more', 'these', 'anyway', 'his', 'someone', 'this', 'about', 'which', 'whence', 'it', 'is', 'name', 'former', 'ourselves', 'such', 'side', 'give', 'enough', 'again', 'otherwise', 'yourself', 'top', 'see', 'beyond', 'do', 'my', 'thus', '’m', '’re', 'together', 'nothing', 'her', 'mine', 'might', 'twenty', '‘d', 'still', '’ve', 'ten', '‘m', 'whither', 'though', 'namely', 'could', 'up', 'whatever', 'becoming', 'nevertheless', 'hereupon', 'through', 'every', 'if', 'ca', 'why', 'latter', 'without', 'hence', \"'s\", 'only', 'say', 'upon', 'please', 'forty', 'sometimes', '’ll', 'four', 'n‘t', 'to', 'yours', 'those', 'fifteen', \"'ve\", 'anywhere', 'call', 'whenever', 'above', '‘ll', 'show', 'besides', 'bottom', 'latterly', 'being'}\n"
     ]
    }
   ],
   "source": [
    "print(STOP_WORDS)"
   ]
  },
  {
   "cell_type": "code",
   "execution_count": 47,
   "metadata": {},
   "outputs": [],
   "source": [
    "nltk_stopwords = set(stop_words_nltk)\n",
    "spacy_stopwords = set(STOP_WORDS)"
   ]
  },
  {
   "cell_type": "code",
   "execution_count": 48,
   "metadata": {},
   "outputs": [
    {
     "data": {
      "text/plain": [
       "56"
      ]
     },
     "execution_count": 48,
     "metadata": {},
     "output_type": "execute_result"
    }
   ],
   "source": [
    "len(list(set(nltk_stopwords) - set(spacy_stopwords)))\n",
    "# Stop words which exist in nltk but not in spacy"
   ]
  },
  {
   "cell_type": "code",
   "execution_count": 59,
   "metadata": {},
   "outputs": [
    {
     "name": "stdout",
     "output_type": "stream",
     "text": [
      "56\n"
     ]
    },
    {
     "data": {
      "text/plain": [
       "{'ain',\n",
       " 'aren',\n",
       " \"aren't\",\n",
       " 'couldn',\n",
       " \"couldn't\",\n",
       " 'd',\n",
       " 'didn',\n",
       " \"didn't\",\n",
       " 'doesn',\n",
       " \"doesn't\",\n",
       " 'don',\n",
       " \"don't\",\n",
       " 'hadn',\n",
       " \"hadn't\",\n",
       " 'hasn',\n",
       " \"hasn't\",\n",
       " 'haven',\n",
       " \"haven't\",\n",
       " 'having',\n",
       " 'isn',\n",
       " \"isn't\",\n",
       " \"it's\",\n",
       " 'll',\n",
       " 'm',\n",
       " 'ma',\n",
       " 'mightn',\n",
       " \"mightn't\",\n",
       " 'mustn',\n",
       " \"mustn't\",\n",
       " 'needn',\n",
       " \"needn't\",\n",
       " 'o',\n",
       " 's',\n",
       " 'shan',\n",
       " \"shan't\",\n",
       " \"she's\",\n",
       " \"should've\",\n",
       " 'shouldn',\n",
       " \"shouldn't\",\n",
       " 't',\n",
       " \"that'll\",\n",
       " 'theirs',\n",
       " 've',\n",
       " 'wasn',\n",
       " \"wasn't\",\n",
       " 'weren',\n",
       " \"weren't\",\n",
       " 'won',\n",
       " \"won't\",\n",
       " 'wouldn',\n",
       " \"wouldn't\",\n",
       " 'y',\n",
       " \"you'd\",\n",
       " \"you'll\",\n",
       " \"you're\",\n",
       " \"you've\"}"
      ]
     },
     "execution_count": 59,
     "metadata": {},
     "output_type": "execute_result"
    }
   ],
   "source": [
    "nltk_unique_stopwords = nltk_stopwords.difference(spacy_stopwords)\n",
    "print(len(nltk_unique_stopwords))\n",
    "nltk_unique_stopwords"
   ]
  },
  {
   "cell_type": "code",
   "execution_count": 49,
   "metadata": {},
   "outputs": [
    {
     "data": {
      "text/plain": [
       "203"
      ]
     },
     "execution_count": 49,
     "metadata": {},
     "output_type": "execute_result"
    }
   ],
   "source": [
    "len(list(set(spacy_stopwords) - set(nltk_stopwords)))\n",
    "# Stop words which exist in spacy but not in NLTK"
   ]
  },
  {
   "cell_type": "code",
   "execution_count": 50,
   "metadata": {},
   "outputs": [
    {
     "data": {
      "text/plain": [
       "123"
      ]
     },
     "execution_count": 50,
     "metadata": {},
     "output_type": "execute_result"
    }
   ],
   "source": [
    "len(list((set(spacy_stopwords) & set(nltk_stopwords))))\n",
    "# Common stop words"
   ]
  },
  {
   "cell_type": "code",
   "execution_count": 53,
   "metadata": {},
   "outputs": [
    {
     "data": {
      "text/plain": [
       "123"
      ]
     },
     "execution_count": 53,
     "metadata": {},
     "output_type": "execute_result"
    }
   ],
   "source": [
    "common_stopwords = nltk_stopwords.intersection(spacy_stopwords)\n",
    "len(common_stopwords)"
   ]
  },
  {
   "cell_type": "markdown",
   "metadata": {},
   "source": [
    "### Remove len() to get the list of stop words"
   ]
  },
  {
   "cell_type": "code",
   "execution_count": null,
   "metadata": {},
   "outputs": [],
   "source": []
  },
  {
   "cell_type": "markdown",
   "metadata": {},
   "source": [
    "### Removing stop words in a sentence"
   ]
  },
  {
   "cell_type": "code",
   "execution_count": 63,
   "metadata": {},
   "outputs": [],
   "source": [
    "sample_text = \"\"\"Putin easily won reelection in 2004. His chosen successor, Dmitry Medvedev, was elected president in March 2008, and, shortly after taking office, he appointed Putin prime minister. In 2011 the two men announced that they would be trading posts—pending a victory at the polls—and in the 2012 election, Putin won a third term as president. In 2014 Putin oversaw the occupation and annexation by Russia of the Ukrainian autonomous republic of Crimea, and in 2015 Russia became actively involved in the Syrian Civil War. Although Putin denied the existence of any campaign to influence foreign elections, cyberattacks during the 2016 U.S. presidential campaign and the 2017 French presidential election were tied to Russian intelligence services and groups affiliated with the Russian government.\"\"\"\n"
   ]
  },
  {
   "cell_type": "code",
   "execution_count": 64,
   "metadata": {},
   "outputs": [
    {
     "data": {
      "text/plain": [
       "['Putin',\n",
       " 'easily',\n",
       " 'won',\n",
       " 'reelection',\n",
       " 'in',\n",
       " '2004',\n",
       " '.',\n",
       " 'His',\n",
       " 'chosen',\n",
       " 'successor',\n",
       " ',',\n",
       " 'Dmitry',\n",
       " 'Medvedev',\n",
       " ',',\n",
       " 'was',\n",
       " 'elected',\n",
       " 'president',\n",
       " 'in',\n",
       " 'March',\n",
       " '2008',\n",
       " ',',\n",
       " 'and',\n",
       " ',',\n",
       " 'shortly',\n",
       " 'after',\n",
       " 'taking',\n",
       " 'office',\n",
       " ',',\n",
       " 'he',\n",
       " 'appointed',\n",
       " 'Putin',\n",
       " 'prime',\n",
       " 'minister',\n",
       " '.',\n",
       " 'In',\n",
       " '2011',\n",
       " 'the',\n",
       " 'two',\n",
       " 'men',\n",
       " 'announced',\n",
       " 'that',\n",
       " 'they',\n",
       " 'would',\n",
       " 'be',\n",
       " 'trading',\n",
       " 'posts—pending',\n",
       " 'a',\n",
       " 'victory',\n",
       " 'at',\n",
       " 'the',\n",
       " 'polls—and',\n",
       " 'in',\n",
       " 'the',\n",
       " '2012',\n",
       " 'election',\n",
       " ',',\n",
       " 'Putin',\n",
       " 'won',\n",
       " 'a',\n",
       " 'third',\n",
       " 'term',\n",
       " 'as',\n",
       " 'president',\n",
       " '.',\n",
       " 'In',\n",
       " '2014',\n",
       " 'Putin',\n",
       " 'oversaw',\n",
       " 'the',\n",
       " 'occupation',\n",
       " 'and',\n",
       " 'annexation',\n",
       " 'by',\n",
       " 'Russia',\n",
       " 'of',\n",
       " 'the',\n",
       " 'Ukrainian',\n",
       " 'autonomous',\n",
       " 'republic',\n",
       " 'of',\n",
       " 'Crimea',\n",
       " ',',\n",
       " 'and',\n",
       " 'in',\n",
       " '2015',\n",
       " 'Russia',\n",
       " 'became',\n",
       " 'actively',\n",
       " 'involved',\n",
       " 'in',\n",
       " 'the',\n",
       " 'Syrian',\n",
       " 'Civil',\n",
       " 'War',\n",
       " '.',\n",
       " 'Although',\n",
       " 'Putin',\n",
       " 'denied',\n",
       " 'the',\n",
       " 'existence',\n",
       " 'of',\n",
       " 'any',\n",
       " 'campaign',\n",
       " 'to',\n",
       " 'influence',\n",
       " 'foreign',\n",
       " 'elections',\n",
       " ',',\n",
       " 'cyberattacks',\n",
       " 'during',\n",
       " 'the',\n",
       " '2016',\n",
       " 'U.S.',\n",
       " 'presidential',\n",
       " 'campaign',\n",
       " 'and',\n",
       " 'the',\n",
       " '2017',\n",
       " 'French',\n",
       " 'presidential',\n",
       " 'election',\n",
       " 'were',\n",
       " 'tied',\n",
       " 'to',\n",
       " 'Russian',\n",
       " 'intelligence',\n",
       " 'services',\n",
       " 'and',\n",
       " 'groups',\n",
       " 'affiliated',\n",
       " 'with',\n",
       " 'the',\n",
       " 'Russian',\n",
       " 'government',\n",
       " '.']"
      ]
     },
     "execution_count": 64,
     "metadata": {},
     "output_type": "execute_result"
    }
   ],
   "source": [
    "word_tokenize(sample_text)"
   ]
  },
  {
   "cell_type": "code",
   "execution_count": 117,
   "metadata": {},
   "outputs": [],
   "source": [
    "sample_text_without_stopwords_nltk = []\n",
    "for word in word_tokenize(sample_text):\n",
    "    if word in nltk_stopwords:\n",
    "        continue\n",
    "    else:\n",
    "        \n",
    "        sample_text_without_stopwords_nltk.append(word)"
   ]
  },
  {
   "cell_type": "code",
   "execution_count": 100,
   "metadata": {},
   "outputs": [],
   "source": [
    "sample_text_without_stopwords_spacy = \" \"\n",
    "for word in word_tokenize(sample_text):\n",
    "    if word not in spacy_stopwords:\n",
    "        sample_text_without_stopwords_spacy += word + \" \""
   ]
  },
  {
   "cell_type": "code",
   "execution_count": 118,
   "metadata": {},
   "outputs": [
    {
     "data": {
      "text/plain": [
       "['Putin',\n",
       " 'easily',\n",
       " 'reelection',\n",
       " '2004',\n",
       " '.',\n",
       " 'His',\n",
       " 'chosen',\n",
       " 'successor',\n",
       " ',',\n",
       " 'Dmitry',\n",
       " 'Medvedev',\n",
       " ',',\n",
       " 'elected',\n",
       " 'president',\n",
       " 'March',\n",
       " '2008',\n",
       " ',',\n",
       " ',',\n",
       " 'shortly',\n",
       " 'taking',\n",
       " 'office',\n",
       " ',',\n",
       " 'appointed',\n",
       " 'Putin',\n",
       " 'prime',\n",
       " 'minister',\n",
       " '.',\n",
       " 'In',\n",
       " '2011',\n",
       " 'two',\n",
       " 'men',\n",
       " 'announced',\n",
       " 'would',\n",
       " 'trading',\n",
       " 'posts—pending',\n",
       " 'victory',\n",
       " 'polls—and',\n",
       " '2012',\n",
       " 'election',\n",
       " ',',\n",
       " 'Putin',\n",
       " 'third',\n",
       " 'term',\n",
       " 'president',\n",
       " '.',\n",
       " 'In',\n",
       " '2014',\n",
       " 'Putin',\n",
       " 'oversaw',\n",
       " 'occupation',\n",
       " 'annexation',\n",
       " 'Russia',\n",
       " 'Ukrainian',\n",
       " 'autonomous',\n",
       " 'republic',\n",
       " 'Crimea',\n",
       " ',',\n",
       " '2015',\n",
       " 'Russia',\n",
       " 'became',\n",
       " 'actively',\n",
       " 'involved',\n",
       " 'Syrian',\n",
       " 'Civil',\n",
       " 'War',\n",
       " '.',\n",
       " 'Although',\n",
       " 'Putin',\n",
       " 'denied',\n",
       " 'existence',\n",
       " 'campaign',\n",
       " 'influence',\n",
       " 'foreign',\n",
       " 'elections',\n",
       " ',',\n",
       " 'cyberattacks',\n",
       " '2016',\n",
       " 'U.S.',\n",
       " 'presidential',\n",
       " 'campaign',\n",
       " '2017',\n",
       " 'French',\n",
       " 'presidential',\n",
       " 'election',\n",
       " 'tied',\n",
       " 'Russian',\n",
       " 'intelligence',\n",
       " 'services',\n",
       " 'groups',\n",
       " 'affiliated',\n",
       " 'Russian',\n",
       " 'government',\n",
       " '.']"
      ]
     },
     "execution_count": 118,
     "metadata": {},
     "output_type": "execute_result"
    }
   ],
   "source": [
    "sample_text_without_stopwords_nltk"
   ]
  },
  {
   "cell_type": "code",
   "execution_count": 112,
   "metadata": {},
   "outputs": [
    {
     "data": {
      "text/plain": [
       "' Putin easily won reelection 2004 . His chosen successor , Dmitry Medvedev , elected president March 2008 , , shortly taking office , appointed Putin prime minister . In 2011 men announced trading posts—pending victory polls—and 2012 election , Putin won term president . In 2014 Putin oversaw occupation annexation Russia Ukrainian autonomous republic Crimea , 2015 Russia actively involved Syrian Civil War . Although Putin denied existence campaign influence foreign elections , cyberattacks 2016 U.S. presidential campaign 2017 French presidential election tied Russian intelligence services groups affiliated Russian government . '"
      ]
     },
     "execution_count": 112,
     "metadata": {},
     "output_type": "execute_result"
    }
   ],
   "source": [
    "sample_text_without_stopwords_spacy"
   ]
  },
  {
   "cell_type": "code",
   "execution_count": null,
   "metadata": {},
   "outputs": [],
   "source": []
  },
  {
   "cell_type": "markdown",
   "metadata": {},
   "source": [
    "## Stemming & Lemmatization"
   ]
  },
  {
   "cell_type": "code",
   "execution_count": 114,
   "metadata": {},
   "outputs": [
    {
     "data": {
      "text/plain": [
       "<PorterStemmer>"
      ]
     },
     "execution_count": 114,
     "metadata": {},
     "output_type": "execute_result"
    }
   ],
   "source": [
    "from nltk.stem import PorterStemmer\n",
    "stemmer = PorterStemmer()\n"
   ]
  },
  {
   "cell_type": "code",
   "execution_count": 140,
   "metadata": {},
   "outputs": [
    {
     "data": {
      "text/plain": [
       "['putin',\n",
       " 'easili',\n",
       " 'reelect',\n",
       " '2004',\n",
       " '.',\n",
       " 'hi',\n",
       " 'chosen',\n",
       " 'successor',\n",
       " ',',\n",
       " 'dmitri',\n",
       " 'medvedev',\n",
       " ',',\n",
       " 'elect',\n",
       " 'presid',\n",
       " 'march',\n",
       " '2008',\n",
       " ',',\n",
       " ',',\n",
       " 'shortli',\n",
       " 'take',\n",
       " 'offic',\n",
       " ',',\n",
       " 'appoint',\n",
       " 'putin',\n",
       " 'prime',\n",
       " 'minist',\n",
       " '.',\n",
       " 'in',\n",
       " '2011',\n",
       " 'two',\n",
       " 'men',\n",
       " 'announc',\n",
       " 'would',\n",
       " 'trade',\n",
       " 'posts—pend',\n",
       " 'victori',\n",
       " 'polls—and',\n",
       " '2012',\n",
       " 'elect',\n",
       " ',',\n",
       " 'putin',\n",
       " 'third',\n",
       " 'term',\n",
       " 'presid',\n",
       " '.',\n",
       " 'in',\n",
       " '2014',\n",
       " 'putin',\n",
       " 'oversaw',\n",
       " 'occup',\n",
       " 'annex',\n",
       " 'russia',\n",
       " 'ukrainian',\n",
       " 'autonom',\n",
       " 'republ',\n",
       " 'crimea',\n",
       " ',',\n",
       " '2015',\n",
       " 'russia',\n",
       " 'becam',\n",
       " 'activ',\n",
       " 'involv',\n",
       " 'syrian',\n",
       " 'civil',\n",
       " 'war',\n",
       " '.',\n",
       " 'although',\n",
       " 'putin',\n",
       " 'deni',\n",
       " 'exist',\n",
       " 'campaign',\n",
       " 'influenc',\n",
       " 'foreign',\n",
       " 'elect',\n",
       " ',',\n",
       " 'cyberattack',\n",
       " '2016',\n",
       " 'u.s.',\n",
       " 'presidenti',\n",
       " 'campaign',\n",
       " '2017',\n",
       " 'french',\n",
       " 'presidenti',\n",
       " 'elect',\n",
       " 'tie',\n",
       " 'russian',\n",
       " 'intellig',\n",
       " 'servic',\n",
       " 'group',\n",
       " 'affili',\n",
       " 'russian',\n",
       " 'govern',\n",
       " '.']"
      ]
     },
     "execution_count": 140,
     "metadata": {},
     "output_type": "execute_result"
    }
   ],
   "source": [
    "stemmed_words_nltk = []\n",
    "for word in sample_text_without_stopwords_nltk:\n",
    "    stemmed_words_nltk.append(stemmer.stem(word))\n",
    "    \n",
    "stemmed_words_nltk"
   ]
  },
  {
   "cell_type": "markdown",
   "metadata": {},
   "source": [
    "### Lemmatization"
   ]
  },
  {
   "cell_type": "code",
   "execution_count": 141,
   "metadata": {},
   "outputs": [],
   "source": [
    "from nltk.stem import WordNetLemmatizer\n",
    "lemmatizer = WordNetLemmatizer()\n",
    "\n"
   ]
  },
  {
   "cell_type": "code",
   "execution_count": 142,
   "metadata": {},
   "outputs": [
    {
     "data": {
      "text/plain": [
       "['Putin',\n",
       " 'easily',\n",
       " 'reelection',\n",
       " '2004',\n",
       " '.',\n",
       " 'His',\n",
       " 'chosen',\n",
       " 'successor',\n",
       " ',',\n",
       " 'Dmitry',\n",
       " 'Medvedev',\n",
       " ',',\n",
       " 'elected',\n",
       " 'president',\n",
       " 'March',\n",
       " '2008',\n",
       " ',',\n",
       " ',',\n",
       " 'shortly',\n",
       " 'taking',\n",
       " 'office',\n",
       " ',',\n",
       " 'appointed',\n",
       " 'Putin',\n",
       " 'prime',\n",
       " 'minister',\n",
       " '.',\n",
       " 'In',\n",
       " '2011',\n",
       " 'two',\n",
       " 'men',\n",
       " 'announced',\n",
       " 'would',\n",
       " 'trading',\n",
       " 'posts—pending',\n",
       " 'victory',\n",
       " 'polls—and',\n",
       " '2012',\n",
       " 'election',\n",
       " ',',\n",
       " 'Putin',\n",
       " 'third',\n",
       " 'term',\n",
       " 'president',\n",
       " '.',\n",
       " 'In',\n",
       " '2014',\n",
       " 'Putin',\n",
       " 'oversaw',\n",
       " 'occupation',\n",
       " 'annexation',\n",
       " 'Russia',\n",
       " 'Ukrainian',\n",
       " 'autonomous',\n",
       " 'republic',\n",
       " 'Crimea',\n",
       " ',',\n",
       " '2015',\n",
       " 'Russia',\n",
       " 'became',\n",
       " 'actively',\n",
       " 'involved',\n",
       " 'Syrian',\n",
       " 'Civil',\n",
       " 'War',\n",
       " '.',\n",
       " 'Although',\n",
       " 'Putin',\n",
       " 'denied',\n",
       " 'existence',\n",
       " 'campaign',\n",
       " 'influence',\n",
       " 'foreign',\n",
       " 'election',\n",
       " ',',\n",
       " 'cyberattacks',\n",
       " '2016',\n",
       " 'U.S.',\n",
       " 'presidential',\n",
       " 'campaign',\n",
       " '2017',\n",
       " 'French',\n",
       " 'presidential',\n",
       " 'election',\n",
       " 'tied',\n",
       " 'Russian',\n",
       " 'intelligence',\n",
       " 'service',\n",
       " 'group',\n",
       " 'affiliated',\n",
       " 'Russian',\n",
       " 'government',\n",
       " '.']"
      ]
     },
     "execution_count": 142,
     "metadata": {},
     "output_type": "execute_result"
    }
   ],
   "source": [
    "lemmatized_words_nltk = []\n",
    "for word in sample_text_without_stopwords_nltk:\n",
    "    lemmatized_words_nltk.append(lemmatizer.lemmatize(word))\n",
    "    \n",
    "lemmatized_words_nltk"
   ]
  },
  {
   "cell_type": "code",
   "execution_count": 146,
   "metadata": {},
   "outputs": [
    {
     "name": "stdout",
     "output_type": "stream",
     "text": [
      "putin Putin\n",
      "easili easily\n",
      "reelect reelection\n",
      "2004 2004\n",
      ". .\n",
      "hi His\n",
      "chosen chosen\n",
      "successor successor\n",
      ", ,\n",
      "dmitri Dmitry\n",
      "medvedev Medvedev\n",
      ", ,\n",
      "elect elected\n",
      "presid president\n",
      "march March\n",
      "2008 2008\n",
      ", ,\n",
      ", ,\n",
      "shortli shortly\n",
      "take taking\n",
      "offic office\n",
      ", ,\n",
      "appoint appointed\n",
      "putin Putin\n",
      "prime prime\n",
      "minist minister\n",
      ". .\n",
      "in In\n",
      "2011 2011\n",
      "two two\n",
      "men men\n",
      "announc announced\n",
      "would would\n",
      "trade trading\n",
      "posts—pend posts—pending\n",
      "victori victory\n",
      "polls—and polls—and\n",
      "2012 2012\n",
      "elect election\n",
      ", ,\n",
      "putin Putin\n",
      "third third\n",
      "term term\n",
      "presid president\n",
      ". .\n",
      "in In\n",
      "2014 2014\n",
      "putin Putin\n",
      "oversaw oversaw\n",
      "occup occupation\n",
      "annex annexation\n",
      "russia Russia\n",
      "ukrainian Ukrainian\n",
      "autonom autonomous\n",
      "republ republic\n",
      "crimea Crimea\n",
      ", ,\n",
      "2015 2015\n",
      "russia Russia\n",
      "becam became\n",
      "activ actively\n",
      "involv involved\n",
      "syrian Syrian\n",
      "civil Civil\n",
      "war War\n",
      ". .\n",
      "although Although\n",
      "putin Putin\n",
      "deni denied\n",
      "exist existence\n",
      "campaign campaign\n",
      "influenc influence\n",
      "foreign foreign\n",
      "elect election\n",
      ", ,\n",
      "cyberattack cyberattacks\n",
      "2016 2016\n",
      "u.s. U.S.\n",
      "presidenti presidential\n",
      "campaign campaign\n",
      "2017 2017\n",
      "french French\n",
      "presidenti presidential\n",
      "elect election\n",
      "tie tied\n",
      "russian Russian\n",
      "intellig intelligence\n",
      "servic service\n",
      "group group\n",
      "affili affiliated\n",
      "russian Russian\n",
      "govern government\n",
      ". .\n"
     ]
    }
   ],
   "source": [
    "for i in range(max(len(stemmed_words_nltk),len(lemmatized_words_nltk))):\n",
    "    print(stemmed_words_nltk[i],lemmatized_words_nltk[i])\n",
    "    \n",
    "# comparision of how stemmer and lemmatized work on sentences    "
   ]
  },
  {
   "cell_type": "code",
   "execution_count": 153,
   "metadata": {},
   "outputs": [
    {
     "name": "stdout",
     "output_type": "stream",
     "text": [
      "<class 'spacy.tokens.doc.Doc'>\n",
      "better --> well\n"
     ]
    }
   ],
   "source": [
    "import spacy\n",
    "sp = spacy.load('en_core_web_sm')\n",
    "token = sp('better')\n",
    "\n",
    "print(type(token))\n",
    "\n",
    "for word in token:\n",
    "    print(word.text , \"-->\",word.lemma_ )"
   ]
  },
  {
   "cell_type": "markdown",
   "metadata": {},
   "source": [
    "### spaCy does not contain any function for stemming.\n",
    "\n",
    "### NLTK package has several stemming functions including Porter and Lanchester."
   ]
  },
  {
   "cell_type": "code",
   "execution_count": null,
   "metadata": {},
   "outputs": [],
   "source": []
  },
  {
   "cell_type": "code",
   "execution_count": null,
   "metadata": {},
   "outputs": [],
   "source": []
  },
  {
   "cell_type": "markdown",
   "metadata": {},
   "source": [
    "## POS Tagging using spacy"
   ]
  },
  {
   "cell_type": "code",
   "execution_count": 1,
   "metadata": {},
   "outputs": [
    {
     "name": "stdout",
     "output_type": "stream",
     "text": [
      "Charles Charles PROPN Xxxxx True False\n",
      "Spencer Spencer PROPN Xxxxx True False\n",
      "Chaplin Chaplin PROPN Xxxxx True False\n",
      "was be AUX xxx True True\n",
      "born bear VERB xxxx True False\n",
      "on on ADP xx True True\n",
      "16 16 NUM dd False False\n",
      "April April PROPN Xxxxx True False\n",
      "1889 1889 NUM dddd False False\n",
      "toHannah tohannah NOUN xxXxxxx True False\n",
      "Chaplin(born Chaplin(born PROPN Xxxxx(xxxx False False\n",
      "Hannah Hannah PROPN Xxxxx True False\n",
      "Harriet Harriet PROPN Xxxxx True False\n",
      "Pedlingham Pedlingham PROPN Xxxxx True False\n",
      "Hill Hill PROPN Xxxx True False\n",
      ") ) PUNCT ) False False\n",
      "and and CCONJ xxx True True\n",
      "Charles Charles PROPN Xxxxx True False\n",
      "Chaplin Chaplin PROPN Xxxxx True False\n",
      "Sr Sr PROPN Xx True False\n"
     ]
    }
   ],
   "source": [
    "import spacy\n",
    "nlp = spacy.load(\"en_core_web_sm\")\n",
    "doc = nlp(u'Charles Spencer Chaplin was born on 16 April 1889 toHannah Chaplin(born Hannah Harriet Pedlingham Hill) and Charles Chaplin Sr')\n",
    "\n",
    "for token in doc:\n",
    "    print(token.text, token.lemma_, token.pos_,token.shape_, token.is_alpha, token.is_stop)\n",
    "\n"
   ]
  },
  {
   "cell_type": "code",
   "execution_count": null,
   "metadata": {},
   "outputs": [],
   "source": []
  }
 ],
 "metadata": {
  "kernelspec": {
   "display_name": "Python 3 (ipykernel)",
   "language": "python",
   "name": "python3"
  },
  "language_info": {
   "codemirror_mode": {
    "name": "ipython",
    "version": 3
   },
   "file_extension": ".py",
   "mimetype": "text/x-python",
   "name": "python",
   "nbconvert_exporter": "python",
   "pygments_lexer": "ipython3",
   "version": "3.9.12"
  }
 },
 "nbformat": 4,
 "nbformat_minor": 2
}

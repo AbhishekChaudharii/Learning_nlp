{
 "cells": [
  {
   "cell_type": "code",
   "execution_count": 1,
   "metadata": {},
   "outputs": [
    {
     "name": "stdout",
     "output_type": "stream",
     "text": [
      "This is a handwritten\n",
      "example\n",
      "\n",
      "Write as qooal as you can.\n",
      "\f\n"
     ]
    }
   ],
   "source": [
    "from PIL import Image\n",
    "from pytesseract import image_to_string\n",
    "import enchant\n",
    "d = enchant.Dict(\"en-US\")\n",
    "im = Image.open(\"Sample-handwritten-text-input-for-OCR.png\")\n",
    "# print(im.format, im.size, im.mode)\n",
    "# im.show()\n",
    "text = image_to_string(im)\n",
    "print(text)"
   ]
  },
  {
   "cell_type": "code",
   "execution_count": 2,
   "metadata": {},
   "outputs": [],
   "source": [
    "\n",
    "# import enchant\n",
    "# broker = enchant.Broker()\n",
    "# print(broker.describe())\n",
    "# print(broker.list_languages())"
   ]
  },
  {
   "cell_type": "code",
   "execution_count": 3,
   "metadata": {},
   "outputs": [
    {
     "name": "stdout",
     "output_type": "stream",
     "text": [
      "ERROR: qooal\n",
      "Suggested words ['coal', 'cool', 'goal', 'quail', 'COLA', 'cola', 'kola', 'wool', 'coil', 'koala', 'COL', 'Cal', 'Col', 'cal', 'col', 'gal', 'coolly', 'foal', 'fool', 'pool', 'tool', 'Joel', 'Kohl', 'coll', 'cowl', 'jowl', 'kohl', 'coral', 'focal', 'local', 'skoal', 'vocal']\n"
     ]
    }
   ],
   "source": [
    "import enchant\n",
    "from enchant.checker import SpellChecker\n",
    "d = enchant.Dict(\"en-US\")\n",
    "chkr = SpellChecker(\"en_US\")\n",
    "\n",
    "chkr.set_text(text)\n",
    "\n",
    "for err in chkr:\n",
    "    print(\"ERROR:\", err.word)\n",
    "\n",
    "print(f\"Suggested words {d.suggest(err.word)}\")"
   ]
  },
  {
   "cell_type": "code",
   "execution_count": null,
   "metadata": {},
   "outputs": [],
   "source": []
  }
 ],
 "metadata": {
  "kernelspec": {
   "display_name": "tf",
   "language": "python",
   "name": "python3"
  },
  "language_info": {
   "codemirror_mode": {
    "name": "ipython",
    "version": 3
   },
   "file_extension": ".py",
   "mimetype": "text/x-python",
   "name": "python",
   "nbconvert_exporter": "python",
   "pygments_lexer": "ipython3",
   "version": "3.9.12"
  },
  "orig_nbformat": 4
 },
 "nbformat": 4,
 "nbformat_minor": 2
}
